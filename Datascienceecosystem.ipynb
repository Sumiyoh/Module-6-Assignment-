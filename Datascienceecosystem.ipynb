{
 "cells": [
  {
   "cell_type": "markdown",
   "id": "71b94c0b-8e5a-4bd6-a696-220ce26324be",
   "metadata": {},
   "source": [
    "## Data Science Tools and Ecosystem"
   ]
  },
  {
   "cell_type": "markdown",
   "id": "12344554-ea7a-436e-b70f-2417e2a65c76",
   "metadata": {},
   "source": [
    "In this notebook, Data Science Tools and Ecosystem are summarized\n"
   ]
  },
  {
   "cell_type": "markdown",
   "id": "031ebf4a-8a12-4a31-b59b-dff4d60558e6",
   "metadata": {},
   "source": [
    "**Objectives**"
   ]
  },
  {
   "cell_type": "markdown",
   "id": "46616a50-2d7c-4d79-90d5-f742e871973e",
   "metadata": {},
   "source": [
    "* Python\n",
    "* SQL\n",
    "* R"
   ]
  },
  {
   "cell_type": "markdown",
   "id": "062bfeb9-a4ed-465a-85ea-4ec051d397fd",
   "metadata": {},
   "source": [
    "Some of the popular languages that Data Scientists use are:\n",
    "1. Python\n",
    "2. SQL\n",
    "3. R Statistical language"
   ]
  },
  {
   "cell_type": "markdown",
   "id": "ce02033e-8e38-4005-be48-75d5ba63fde1",
   "metadata": {},
   "source": [
    "Some of the coomonly used libraries used by Data Scientists include:\n",
    "1. NumPy\n",
    "2. Pandas\n",
    "3. Seaborn"
   ]
  },
  {
   "cell_type": "markdown",
   "id": "a2ca7440-99b3-45da-a528-5b798bb6ff29",
   "metadata": {},
   "source": [
    "| Data Science Tools|\n",
    "|--------------------|\n",
    "|Hadoop|\n",
    "|Apache|\n",
    "|Spark|"
   ]
  },
  {
   "cell_type": "markdown",
   "id": "3487f5a5-85ed-4c15-b168-06f05424e9df",
   "metadata": {},
   "source": [
    "### Below are a few examples of evaluating arithmetic expressions in Python"
   ]
  },
  {
   "cell_type": "markdown",
   "id": "4827525a-0658-4255-ad1c-df2c5152f87e",
   "metadata": {},
   "source": [
    "This is a simple arithmetic expression to multiply then add integers"
   ]
  },
  {
   "cell_type": "code",
   "execution_count": 2,
   "id": "a43335cd-1835-408f-9d6e-2fbe31235eb8",
   "metadata": {},
   "outputs": [
    {
     "data": {
      "text/plain": [
       "17"
      ]
     },
     "execution_count": 2,
     "metadata": {},
     "output_type": "execute_result"
    }
   ],
   "source": [
    "(3*4)+5"
   ]
  },
  {
   "cell_type": "markdown",
   "id": "ed6d0d69-0528-4db9-8653-0a28c1b563dd",
   "metadata": {},
   "source": [
    "This will convert 200 minutes to hours by dividing by 60"
   ]
  },
  {
   "cell_type": "code",
   "execution_count": 3,
   "id": "8e864b18-df7e-4c79-829f-17075c094897",
   "metadata": {},
   "outputs": [
    {
     "data": {
      "text/plain": [
       "3.3333333333333335"
      ]
     },
     "execution_count": 3,
     "metadata": {},
     "output_type": "execute_result"
    }
   ],
   "source": [
    "200/60"
   ]
  },
  {
   "cell_type": "markdown",
   "id": "9588f79f-ad2d-4747-ad9d-255fd06e3111",
   "metadata": {},
   "source": [
    "## Author"
   ]
  },
  {
   "cell_type": "markdown",
   "id": "48a26a61-fa35-48ba-b924-863f58ff15d9",
   "metadata": {},
   "source": [
    "Sumi Yohannan"
   ]
  },
  {
   "cell_type": "code",
   "execution_count": null,
   "id": "7d6c82bd-e888-43bd-987c-5f0e766b2f48",
   "metadata": {},
   "outputs": [],
   "source": []
  }
 ],
 "metadata": {
  "kernelspec": {
   "display_name": "Python 3 (ipykernel)",
   "language": "python",
   "name": "python3"
  },
  "language_info": {
   "codemirror_mode": {
    "name": "ipython",
    "version": 3
   },
   "file_extension": ".py",
   "mimetype": "text/x-python",
   "name": "python",
   "nbconvert_exporter": "python",
   "pygments_lexer": "ipython3",
   "version": "3.12.4"
  }
 },
 "nbformat": 4,
 "nbformat_minor": 5
}
